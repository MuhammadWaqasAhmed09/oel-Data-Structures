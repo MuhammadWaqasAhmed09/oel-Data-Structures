{
  "nbformat": 4,
  "nbformat_minor": 0,
  "metadata": {
    "colab": {
      "provenance": []
    },
    "kernelspec": {
      "name": "python3",
      "display_name": "Python 3"
    },
    "language_info": {
      "name": "python"
    }
  },
  "cells": [
    {
      "cell_type": "code",
      "execution_count": null,
      "metadata": {
        "id": "-gDzR7QWmIRU"
      },
      "outputs": [],
      "source": [
        "\"\"\" Name: Muhammad Waqas Ahmed\n",
        "    Role NO. = 23-AI-53\n",
        "    Section = A1\n",
        "\"\"\"\n",
        "\n",
        "\n",
        "# Function to find the longest palindrome length from the given string 's'\n",
        "def longestPalindrome(s: str) -> int:\n",
        "\n",
        "    char_counts = {\n",
        "    }  # Create an empty dictionary to store the counts of each character in the string\n",
        "\n",
        "    # Loop through the string and count occurrences of each character\n",
        "    for char in s:\n",
        "        # If the character is already in the dictionary, increment its count\n",
        "        if char in char_counts:\n",
        "            char_counts[char] += 1\n",
        "        else:\n",
        "            # Otherwise, add the character to the dictionary with an initial count of 1\n",
        "            char_counts[char] = 1\n",
        "\n",
        "    palindrome_len = 0  # Initialize a variable to store the length of the longest palindrome\n",
        "\n",
        "    # Flag to check if there is any character with an odd count\n",
        "    has_odd_count = False\n",
        "\n",
        "    # Loop through the character counts in the dictionary\n",
        "    for count in char_counts.values():\n",
        "        # If the count of the character is even, it can be fully used to form a palindrome\n",
        "        if count % 2 == 0:\n",
        "            palindrome_len += count\n",
        "        else:\n",
        "            # If the count is odd, add the largest even number of occurrences (count - 1)\n",
        "            palindrome_len += count - 1\n",
        "            # Set the flag indicating that there is at least one character with an odd count\n",
        "            has_odd_count = True\n",
        "\n",
        "    # If there is at least one character with an odd count, we can place one of them\n",
        "    # in the center of the palindrome, thus increasing the palindrome length by 1\n",
        "    if has_odd_count:\n",
        "        palindrome_len += 1\n",
        "\n",
        "    # Step 6: Return the total length of the longest possible palindrome that can be formed\n",
        "    return palindrome_len\n",
        "\n",
        "\n",
        "# Example test cases to check the function behavior\n",
        "\n",
        "# Test case 1: Input string \"abccccdd\"\n",
        "a = longestPalindrome(\"abccccdd\")\n",
        "# Test case 2: Input string \"a\"\n",
        "b = longestPalindrome(\"a\")\n",
        "\n",
        "print(a)\n",
        "print(b)\n"
      ]
    }
  ]
}